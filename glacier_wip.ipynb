{
 "cells": [
  {
   "cell_type": "markdown",
   "id": "ee2511df-1bee-4e77-ac89-54abbaf9392b",
   "metadata": {},
   "source": [
    "# Glacier edu module WIP\n",
    "This is an introduction/walk through of the glacier module in the OGGM-Edu library.\n",
    "At the moment it contains five classes: `GlacierBed`, `MassBalance`, `Glacier`, `SurgingGlacier` and `GlacierCollection`. "
   ]
  },
  {
   "cell_type": "markdown",
   "id": "02d89e1c-3971-47f3-9db8-0cd440bc8faf",
   "metadata": {},
   "source": [
    "#### Interactive boxes PSA"
   ]
  },
  {
   "cell_type": "markdown",
   "id": "93fceaf9-cc4b-4ed5-96d7-49b9efcdc306",
   "metadata": {},
   "source": [
    "- Green\n",
    "<div class=\"alert alert-success\">\n",
    "    <details>\n",
    "        <summary>Just an example (Click me)</summary>\n",
    "        This is where the bread of the box go.\n",
    "    </details>\n",
    "</div>\n",
    "- Orange\n",
    "<div class=\"alert alert-warning\">\n",
    "    <details>\n",
    "        <summary>Just an example (Click me)</summary>\n",
    "        This is where the bread of the box go.\n",
    "    </details>\n",
    "</div>\n",
    "- Red\n",
    "<div class=\"alert alert-danger\">\n",
    "    <details>\n",
    "        <summary>Just an example (Click me)</summary>\n",
    "        This is where the bread of the box go.\n",
    "    </details>\n",
    "</div>\n",
    "- Blue\n",
    "<div class=\"alert alert-info\">\n",
    "    <details>\n",
    "        <summary>Just an example (Click me)</summary>\n",
    "        This is where the bread of the box go.\n",
    "    </details>\n",
    "</div>"
   ]
  },
  {
   "cell_type": "code",
   "execution_count": null,
   "id": "90b7962d-cc03-4798-a491-dc29568160f1",
   "metadata": {},
   "outputs": [],
   "source": [
    "%load_ext autoreload\n",
    "%autoreload 2"
   ]
  },
  {
   "cell_type": "code",
   "execution_count": null,
   "id": "opponent-bracket",
   "metadata": {},
   "outputs": [],
   "source": [
    "from oggm_edu import Glacier, GlacierCollection, GlacierBed, SurgingGlacier, MassBalance"
   ]
  },
  {
   "cell_type": "markdown",
   "id": "2de6da0b-48ff-47f8-9265-4eb028d03976",
   "metadata": {},
   "source": [
    "## Glacier bed\n",
    "The `GlacierBed` provides with a separate object for the bed of the glacier.\n",
    "This is then passed to the initialisation of the glacier.\n",
    "There are two ways to initialise a glacier bed:\n",
    "- Pass single scalars to the arguments top, bottom and width.\n",
    "    This creates a square bed.\n",
    "- Pass multiple values (list/tuple) to altitudes and widths.\n",
    "    These have to be the same length.\n",
    "    Each pair corresponds to the width at that altitude.\n",
    "    Gives more control over the geometry."
   ]
  },
  {
   "cell_type": "code",
   "execution_count": null,
   "id": "8c9ae90f-c7d2-4640-87bb-b8cb0bed1c4b",
   "metadata": {
    "tags": []
   },
   "outputs": [],
   "source": [
    "# Create a complex bed.\n",
    "bed = GlacierBed(altitudes=(3800, 3300, 3000, 100),\n",
    "                 widths=(1200, 900, 800, 600), slope=0.2)\n",
    "# Create a simple bed\n",
    "# bed = GlacierBed(top=3400, bottom=1400, width=300)"
   ]
  },
  {
   "cell_type": "code",
   "execution_count": null,
   "id": "db322060-a930-4b4c-a23e-955145caed5c",
   "metadata": {},
   "outputs": [],
   "source": [
    "# Representation\n",
    "bed"
   ]
  },
  {
   "cell_type": "code",
   "execution_count": null,
   "id": "c4dcfb07-894e-4883-b2eb-ab58b8030766",
   "metadata": {
    "tags": []
   },
   "outputs": [],
   "source": [
    "# Plotting method.\n",
    "bed.plot()"
   ]
  },
  {
   "cell_type": "markdown",
   "id": "0fefbee4-7f9e-4a81-bfac-fa018eade820",
   "metadata": {},
   "source": [
    "## Mass balance\n",
    "This class is used to create the mass balance of the our glacier. \n",
    "For now it is simply a wrapper around the `LinearMassBalance` class of OGGM, with some extra attributes and methods for edu purposes."
   ]
  },
  {
   "cell_type": "code",
   "execution_count": null,
   "id": "ae01870e-dbf5-4bc9-92d3-e39c69b5a49a",
   "metadata": {},
   "outputs": [],
   "source": [
    "# We initialise it with an ELA and mass balance gradient.\n",
    "mb = MassBalance(3000, 4)"
   ]
  },
  {
   "cell_type": "code",
   "execution_count": null,
   "id": "5416ae75-407c-4309-a1f5-d8fb00f70d2f",
   "metadata": {},
   "outputs": [],
   "source": [
    "mb"
   ]
  },
  {
   "cell_type": "markdown",
   "id": "03c68171-c183-4123-8593-dd49d7521585",
   "metadata": {},
   "source": [
    "## Glacier\n",
    "The `Glacier` class gives us an object with methods and attributes which enables us to play around and diagnose a glacier.\n",
    "We begin with the definition of our glacier.\n",
    "It expects a bed of the type `GlacierBed` and a mass balance of the type `MassBalance` (this can be omitted)."
   ]
  },
  {
   "cell_type": "code",
   "execution_count": null,
   "id": "continent-finnish",
   "metadata": {},
   "outputs": [],
   "source": [
    "# Initialise the glacier with the bed and mass balance from earlier.\n",
    "my_glacier = Glacier(bed, mb)"
   ]
  },
  {
   "cell_type": "markdown",
   "id": "abf42447-ddd4-416f-bac0-684ca9fba885",
   "metadata": {},
   "source": [
    "If we simply call the glacier we get some basic statistics about it"
   ]
  },
  {
   "cell_type": "code",
   "execution_count": null,
   "id": "above-detective",
   "metadata": {},
   "outputs": [],
   "source": [
    "# Prints what is currently known about the glacier.\n",
    "my_glacier"
   ]
  },
  {
   "cell_type": "markdown",
   "id": "19a0711e-c8d2-47c2-99f1-755fd0814659",
   "metadata": {},
   "source": [
    "Since we haven't actually grown the glacier yet, the glacier has no volume, length.\n",
    "If you didn't pass an mass balance during initialisation it also doesn't have an ELA yet.\n",
    "This can be added later.\n",
    "\n",
    "The glacier has a method for plotting:"
   ]
  },
  {
   "cell_type": "code",
   "execution_count": null,
   "id": "constitutional-individual",
   "metadata": {},
   "outputs": [],
   "source": [
    "# A simple plotting method of the current glacier state.\n",
    "my_glacier.plot()"
   ]
  },
  {
   "cell_type": "code",
   "execution_count": null,
   "id": "f00e4f4b-a7a3-4e29-9b32-472da3d780c8",
   "metadata": {},
   "outputs": [],
   "source": [
    "# This will raise an error\n",
    "my_glacier.plot_history()"
   ]
  },
  {
   "cell_type": "markdown",
   "id": "bc1347f0-0e91-4f1a-b4e9-b99aed4941f4",
   "metadata": {},
   "source": [
    "With a mass balance, we can let the glacier progress (grow/shrink).\n",
    "There are two methods for this. `Glacier.progress_to_year(year=)`  progresses the glacier until the specified year.\n",
    "If it grows or shrinks depends on the mass balance.\n",
    "The second method is the `progress_to_equilibrium()` which progress the glacier until an equilibrium state is reached."
   ]
  },
  {
   "cell_type": "code",
   "execution_count": null,
   "id": "5e149e33-c401-4827-8bf0-c8fc1ac300f4",
   "metadata": {},
   "outputs": [],
   "source": [
    "my_glacier.progress_to_year(60)"
   ]
  },
  {
   "cell_type": "code",
   "execution_count": null,
   "id": "4c333358-3826-4164-b0d7-827ecee2cd2e",
   "metadata": {},
   "outputs": [],
   "source": [
    "my_glacier.plot()"
   ]
  },
  {
   "cell_type": "markdown",
   "id": "e31282bf-6e00-401e-9be5-973b5c2c8113",
   "metadata": {},
   "source": [
    "Alternatively we can also create the glacier without the mass balance object, by specifying the ELA and mass balance gradient. \n",
    "This can be done in any order."
   ]
  },
  {
   "cell_type": "code",
   "execution_count": null,
   "id": "criminal-foster",
   "metadata": {},
   "outputs": [],
   "source": [
    "# New glacier\n",
    "my_glacier2 = Glacier(bed)\n",
    "# Set the ela to 3000 m.\n",
    "my_glacier2.ELA = 3400"
   ]
  },
  {
   "cell_type": "code",
   "execution_count": null,
   "id": "3f0d285f-b68a-49b2-839d-adb36b4fcee8",
   "metadata": {},
   "outputs": [],
   "source": [
    "# This will not return anything\n",
    "my_glacier2.mass_balance"
   ]
  },
  {
   "cell_type": "code",
   "execution_count": null,
   "id": "noted-sullivan",
   "metadata": {},
   "outputs": [],
   "source": [
    "# Set the mass balance gradient to 7 mm/m\n",
    "my_glacier2.mb_gradient = 7"
   ]
  },
  {
   "cell_type": "code",
   "execution_count": null,
   "id": "identical-spyware",
   "metadata": {},
   "outputs": [],
   "source": [
    "# Now this will return the mass balance description.\n",
    "my_glacier2.mass_balance"
   ]
  },
  {
   "cell_type": "code",
   "execution_count": null,
   "id": "healthy-slovak",
   "metadata": {},
   "outputs": [],
   "source": [
    "# Progress the glacier until year 60\n",
    "my_glacier2.progress_to_year(60)"
   ]
  },
  {
   "cell_type": "code",
   "execution_count": null,
   "id": "03208de6-adcc-4295-a651-37e103d57d58",
   "metadata": {},
   "outputs": [],
   "source": [
    "my_glacier2.age"
   ]
  },
  {
   "cell_type": "code",
   "execution_count": null,
   "id": "scenic-cameroon",
   "metadata": {},
   "outputs": [],
   "source": [
    "# Outputs have now been updated.\n",
    "my_glacier2"
   ]
  },
  {
   "cell_type": "code",
   "execution_count": null,
   "id": "proprietary-gathering",
   "metadata": {},
   "outputs": [],
   "source": [
    "# Plotting the glacier now has more information. Glacier surface and ELA.\n",
    "my_glacier2.plot()"
   ]
  },
  {
   "cell_type": "markdown",
   "id": "92b5f2a8-d8ce-4e1e-a3f1-55e647379b5a",
   "metadata": {},
   "source": [
    "#### Copy a glacier\n",
    "We can also initialise a new glacier based on an already existing glacier. Simply provide a glacier under the `copy` keyword to the glacier class:"
   ]
  },
  {
   "cell_type": "code",
   "execution_count": null,
   "id": "ef4a4726-8d6d-4d8e-bbe2-13b49bdfd5aa",
   "metadata": {},
   "outputs": [],
   "source": [
    "glacier2 = my_glacier.copy()"
   ]
  },
  {
   "cell_type": "markdown",
   "id": "4b9c19fe-f8b0-46f4-aa9e-a9925dc80c85",
   "metadata": {},
   "source": [
    "This glacier can now be progressed/changed independently from the original glacier."
   ]
  },
  {
   "cell_type": "code",
   "execution_count": null,
   "id": "65d1fad9-8410-49b5-828f-246fc49e3928",
   "metadata": {},
   "outputs": [],
   "source": [
    "# Change the sliding parameter\n",
    "glacier2.basal_sliding = 5.7e-20\n",
    "glacier2.progress_to_year(150)\n",
    "glacier2.plot()"
   ]
  },
  {
   "cell_type": "code",
   "execution_count": null,
   "id": "329a0ed0-caf0-4de8-b46f-561e87ea0412",
   "metadata": {},
   "outputs": [],
   "source": [
    "# Progress the original glacier to year 150\n",
    "my_glacier.progress_to_year(150)\n",
    "my_glacier.plot()"
   ]
  },
  {
   "cell_type": "markdown",
   "id": "cb100728-dd88-480d-b622-6ff3d5fb7c47",
   "metadata": {},
   "source": [
    "## Take a look at the history of the glacier\n",
    "For this the glacier has the history attribute.\n",
    "This is a dataset that contains some useful diagnostics about the glacier."
   ]
  },
  {
   "cell_type": "code",
   "execution_count": null,
   "id": "36058708-db7d-4d5b-9dde-f91954d232d5",
   "metadata": {
    "tags": []
   },
   "outputs": [],
   "source": [
    "my_glacier.history"
   ]
  },
  {
   "cell_type": "markdown",
   "id": "018c03e7-1d84-4c5d-a2cf-f248d1eb0449",
   "metadata": {},
   "source": [
    "We can plot the history of some attributes of the glacier quickly"
   ]
  },
  {
   "cell_type": "code",
   "execution_count": null,
   "id": "0226c6f9-61f6-46ba-94ed-18a28502fe71",
   "metadata": {},
   "outputs": [],
   "source": [
    "my_glacier.plot_history()"
   ]
  },
  {
   "cell_type": "markdown",
   "id": "eee2f959-2802-4a20-81dd-b62f5b57bdbf",
   "metadata": {},
   "source": [
    "Progress it for a little longer"
   ]
  },
  {
   "cell_type": "code",
   "execution_count": null,
   "id": "stunning-colleague",
   "metadata": {},
   "outputs": [],
   "source": [
    "my_glacier.progress_to_year(210)\n",
    "my_glacier.plot()"
   ]
  },
  {
   "cell_type": "code",
   "execution_count": null,
   "id": "911b0752-4722-48fd-a0df-271c3d5e9854",
   "metadata": {},
   "outputs": [],
   "source": [
    "my_glacier.plot_history()"
   ]
  },
  {
   "cell_type": "markdown",
   "id": "bedbe90d-0961-4c8c-a435-d026552ac222",
   "metadata": {},
   "source": [
    "Let's progress the glacier to equilibrium."
   ]
  },
  {
   "cell_type": "code",
   "execution_count": null,
   "id": "cubic-equation",
   "metadata": {},
   "outputs": [],
   "source": [
    "# Grow the glacier to equilbrium\n",
    "my_glacier.progress_to_equilibrium()"
   ]
  },
  {
   "cell_type": "code",
   "execution_count": null,
   "id": "based-format",
   "metadata": {},
   "outputs": [],
   "source": [
    "# Plot the glacier again.\n",
    "my_glacier.plot()"
   ]
  },
  {
   "cell_type": "markdown",
   "id": "3f9fd12c-2d09-450b-8dd2-92fc05ff8aa0",
   "metadata": {},
   "source": [
    "### State history\n",
    "We can also access the previous states of the glacier under the `.state_history` attribute.\n",
    "This is an dataset, similar to the history attribute, which provide us with information about the geometry of the glacier, such as the ice thickness."
   ]
  },
  {
   "cell_type": "code",
   "execution_count": null,
   "id": "7c166935-e109-46d3-88ff-ff76fcd92641",
   "metadata": {},
   "outputs": [],
   "source": [
    "my_glacier.state_history"
   ]
  },
  {
   "cell_type": "markdown",
   "id": "03466d32-6596-47f4-b12c-819223d4f0d9",
   "metadata": {},
   "source": [
    "This contains a lot of information, it is nicer to visualise some of the data with the corresponding plotting function `.plot_state_history()'."
   ]
  },
  {
   "cell_type": "code",
   "execution_count": null,
   "id": "d1127724-7bf8-4747-941e-4904db2939e8",
   "metadata": {},
   "outputs": [],
   "source": [
    "# Default this plot states at 50 year intervals, but can be specified\n",
    "# with the interval argument.\n",
    "my_glacier.plot_state_history()"
   ]
  },
  {
   "cell_type": "markdown",
   "id": "9b8b20ba-d339-41cd-beab-bad972542787",
   "metadata": {},
   "source": [
    "If we change any of the mass balance parameters, it will internally update the mass balance of the glacier. Growing the glacier will start in the previous state but with the new mass balance. Hence, the glacier will either shrink or grow depending on what is changed. As of now, the glacier is not saving the previous states so one can not compare the glacier before and after the change. One could imagine that glacier to have a mechanism that saves states if the mass balance is changed or something similar. But it also nice to keep the glacier class as light as possible, which is why we have the glacier collection. \n",
    "\n",
    "Other methods/tweaks that could be interesting for the glacier class:\n",
    "- ~~Grow and save in order to plot the evolution~~\n",
    "- ~~Surging, however this might be it's own subclass.~~ See further down.\n",
    "- ~~Response time~~"
   ]
  },
  {
   "cell_type": "markdown",
   "id": "a39b54a9-59bc-4413-b929-1346c746ab29",
   "metadata": {},
   "source": [
    "There is a method for plotting the mass balance."
   ]
  },
  {
   "cell_type": "code",
   "execution_count": null,
   "id": "fd59c9fe-e7ab-4126-bbf5-27194a6985d8",
   "metadata": {},
   "outputs": [],
   "source": [
    "my_glacier.plot_mass_balance()"
   ]
  },
  {
   "cell_type": "markdown",
   "id": "7282dfcf-fa5a-4f1c-8e0e-ae81dd5dfa82",
   "metadata": {},
   "source": [
    "## Climate change scenario\n",
    "We can set up a climate change scenario for our glacier. This is done through the `add_temperature_bias(bias, duration)` method.\n",
    "This will set up a scenario for the glacier so the bias ($\\pm$) is reached after the specified duration (years).\n",
    "The temperature at the glacier is then increased in linear steps annually during the progression.\n",
    "First we create a glacier and run it to equilibrium.\n",
    "Then we add a temperature bias scenario and run to equilibrium again."
   ]
  },
  {
   "cell_type": "code",
   "execution_count": null,
   "id": "ad337b8e-3298-4dfd-800c-704d4a5f480e",
   "metadata": {
    "tags": []
   },
   "outputs": [],
   "source": [
    "# Create a complex bed.\n",
    "bed = GlacierBed(altitudes=(3800, 3300, 3000, 100),\n",
    "                 widths=(1200, 900, 800, 600), slope=0.2)\n",
    "# Create a simple bed\n",
    "# bed = GlaGlacierBed(top=3800, bottom=2100, width=300)"
   ]
  },
  {
   "cell_type": "code",
   "execution_count": null,
   "id": "ae5f39f8-b85a-441b-8da4-ea1fe979b2e5",
   "metadata": {},
   "outputs": [],
   "source": [
    "# Create a mass balance.\n",
    "mb = MassBalance(3000, 7)\n",
    "# Create the glacier.\n",
    "my_glacier = Glacier(bed, mb)"
   ]
  },
  {
   "cell_type": "code",
   "execution_count": null,
   "id": "81fe7cc2-ca91-4bfc-ad07-3677c244cbc3",
   "metadata": {},
   "outputs": [],
   "source": [
    " my_glacier.progress_to_equilibrium()"
   ]
  },
  {
   "cell_type": "code",
   "execution_count": null,
   "id": "d252db16-4fb5-4a35-ac3e-93abbae71c6c",
   "metadata": {},
   "outputs": [],
   "source": [
    "my_glacier.age"
   ]
  },
  {
   "cell_type": "code",
   "execution_count": null,
   "id": "29ac52d6-cdee-41cb-bebc-39bc2f5ee346",
   "metadata": {},
   "outputs": [],
   "source": [
    "my_glacier.plot()"
   ]
  },
  {
   "cell_type": "code",
   "execution_count": null,
   "id": "260c2811-354a-424f-8dee-8678e44a4021",
   "metadata": {},
   "outputs": [],
   "source": [
    "my_glacier.plot_history()"
   ]
  },
  {
   "cell_type": "markdown",
   "id": "5aa5a046-6fd5-4787-bd9f-f86122b1a1f7",
   "metadata": {},
   "source": [
    "We then add a temperature bias of $+1.5C$, which will take 100 years."
   ]
  },
  {
   "cell_type": "code",
   "execution_count": null,
   "id": "98d0c114-dfbc-4537-8b99-bdb684570c01",
   "metadata": {},
   "outputs": [],
   "source": [
    "# Add a temperature bias to the glacier which will take 100 years.\n",
    "my_glacier.add_temperature_bias(1.5, 100)\n",
    "# Progress to equilbirum again. This will first complete the temperature \n",
    "#scenario and then continue to the equilibrium state.\n",
    "my_glacier.progress_to_equilibrium()"
   ]
  },
  {
   "cell_type": "code",
   "execution_count": null,
   "id": "5d026397-7fa0-4df9-ac09-e6269fe85077",
   "metadata": {},
   "outputs": [],
   "source": [
    "my_glacier.plot_history()"
   ]
  },
  {
   "cell_type": "markdown",
   "id": "2510f8ef-a4ce-4aae-9484-fbcb1d7f64e9",
   "metadata": {},
   "source": [
    "By comparing the plots above we can see that in addition to our 100 year temperature evolution the glacier took an additional 28 years to reach equilibrium."
   ]
  },
  {
   "cell_type": "markdown",
   "id": "ca9d4d48-0193-4567-aaf0-9ae6fb7da620",
   "metadata": {},
   "source": [
    "## Response time\n",
    "The response time of a glacier is available under the attribute `.response_time`.\n",
    "However, this is only defined when the glacier has two or more equilibrium states in its history.\n",
    "Hence, this requires the user to setup a glacier and perform experiments so that this is fulfilled.\n",
    "\n",
    "This is achieved by setting up a temperature change scenario."
   ]
  },
  {
   "cell_type": "code",
   "execution_count": null,
   "id": "432ffc9d-6166-48cf-9d71-9d020dd790b2",
   "metadata": {},
   "outputs": [],
   "source": [
    "# We start with a new glacier with a simple bed\n",
    "bed = GlacierBed(top=3400, bottom=1500, width=300)\n",
    "# Mass balance\n",
    "mass_balance = MassBalance(ELA=3000, gradient=5)\n",
    "# Initiate the glacier\n",
    "glacier = Glacier(bed, mass_balance)\n",
    "# Progress to equilibrium\n",
    "glacier.progress_to_equilibrium()\n",
    "glacier"
   ]
  },
  {
   "cell_type": "code",
   "execution_count": null,
   "id": "1ae9391f-dc59-4976-ba50-a43cfce53f83",
   "metadata": {},
   "outputs": [],
   "source": [
    "# View the equilibrium states\n",
    "glacier.eq_states"
   ]
  },
  {
   "cell_type": "markdown",
   "id": "fbccc5a0-732c-4133-86da-9658d8572148",
   "metadata": {},
   "source": [
    "Since the glacier only has one equilibrium state in its history, the response time is not defined"
   ]
  },
  {
   "cell_type": "code",
   "execution_count": null,
   "id": "6890ef3e-39dc-4d58-b635-9392aec77e68",
   "metadata": {},
   "outputs": [],
   "source": [
    "# Will raise an error.\n",
    "glacier.response_time"
   ]
  },
  {
   "cell_type": "markdown",
   "id": "7eef976a-cef9-43a7-b719-8b4f3dd59e43",
   "metadata": {},
   "source": [
    "We set up a temperature change scenario and progress to a second equilibrium state"
   ]
  },
  {
   "cell_type": "code",
   "execution_count": null,
   "id": "4bb25e89-6982-4e57-99ee-559f5feedef1",
   "metadata": {},
   "outputs": [],
   "source": [
    "# Add an abrpupt temperature bias scenario\n",
    "# At the moment the calculation of the response time does not take\n",
    "# the time progression of the temperature scenario into account,\n",
    "# hence we set it to 1 year\n",
    "glacier.add_temperature_bias(1., 1)\n",
    "glacier.progress_to_equilibrium()"
   ]
  },
  {
   "cell_type": "code",
   "execution_count": null,
   "id": "8af9d841-0619-4d56-b330-4ee63f6eea90",
   "metadata": {},
   "outputs": [],
   "source": [
    "# Take a look at the eq. states again.\n",
    "glacier.eq_states"
   ]
  },
  {
   "cell_type": "markdown",
   "id": "83fbdcc4-6949-4c48-867d-e21cfaa7f52c",
   "metadata": {},
   "source": [
    "The response time is now defined."
   ]
  },
  {
   "cell_type": "code",
   "execution_count": null,
   "id": "263846b1-a539-4c07-9ab5-f0392881d3e0",
   "metadata": {},
   "outputs": [],
   "source": [
    "# Response time in years\n",
    "glacier.response_time"
   ]
  },
  {
   "cell_type": "markdown",
   "id": "19fbe216-0d06-47bc-84aa-5599fa334dcf",
   "metadata": {},
   "source": [
    "It will be updated every time we add a new equilibrium state, calculated based on the last two eq. states.\n",
    "In theory the response time should stay constant for the glacier, no matter the temperature scenario (raised/lowered temperature)"
   ]
  },
  {
   "cell_type": "markdown",
   "id": "068b4332-d953-4159-adbe-612d4cd65b21",
   "metadata": {},
   "source": [
    "# The the glacier collection\n",
    "The `GlacierCollection()` class is made to make it simple to work with multiple glaciers. As of now, we have to define the glaciers separately and put them in the collection. But it is not hard to imagine that it could also have a method to populate it with a number of glaciers."
   ]
  },
  {
   "cell_type": "code",
   "execution_count": null,
   "id": "c4c27a55-753f-40aa-a596-b74dd44614ec",
   "metadata": {},
   "outputs": [],
   "source": [
    "# This initiates an empty collection.\n",
    "collection = GlacierCollection()"
   ]
  },
  {
   "cell_type": "code",
   "execution_count": null,
   "id": "6813f392-41f2-4d3e-a777-8d0af723fdcc",
   "metadata": {},
   "outputs": [],
   "source": [
    "collection"
   ]
  },
  {
   "cell_type": "code",
   "execution_count": null,
   "id": "bc655ba9-701d-4eb1-865b-c0657c9f6cff",
   "metadata": {},
   "outputs": [],
   "source": [
    "# As of now, it is empty.\n",
    "collection.glaciers"
   ]
  },
  {
   "cell_type": "markdown",
   "id": "fc5c87c4-1668-4e33-ab98-da33e82b790f",
   "metadata": {},
   "source": [
    "Let's create another two glaciers to add to the collection"
   ]
  },
  {
   "cell_type": "code",
   "execution_count": null,
   "id": "e2efd41b-59af-406b-9520-e34acfcda376",
   "metadata": {},
   "outputs": [],
   "source": [
    "# lets create two other glaciers.\n",
    "# bed = GlacierBed(top=3400, bottom=1400, width=300)\n",
    "bed = GlacierBed(altitudes=[3400, 2800, 2000, 1500],\n",
    "                 widths=[400, 600, 600, 500])\n",
    "# They have the same bed.\n",
    "glacier1 = Glacier(bed)\n",
    "glacier1.ELA = 3000\n",
    "# But different mb gradients\n",
    "glacier1.mb_gradient = 7\n",
    "# lets create two other glaciers.\n",
    "# Here we copy the first one, but one could just define new ones a done\n",
    "# above.\n",
    "glacier2 = glacier1.copy()\n",
    "glacier3 = glacier1.copy()"
   ]
  },
  {
   "cell_type": "code",
   "execution_count": null,
   "id": "b0a986d1-55b2-4390-9428-a441883c992e",
   "metadata": {},
   "outputs": [],
   "source": [
    "collection"
   ]
  },
  {
   "cell_type": "markdown",
   "id": "be6481ba-15fa-4e79-bbc1-b293e3b02410",
   "metadata": {},
   "source": [
    "We add glaciers to the collection with the `.add()` method:"
   ]
  },
  {
   "cell_type": "code",
   "execution_count": null,
   "id": "92ff94c4-a5c4-4af7-8514-8b6a68838dc1",
   "metadata": {},
   "outputs": [],
   "source": [
    "# Add the first glacier\n",
    "collection.add([glacier1, glacier2, glacier3])\n",
    "# Change some ice flow stuff\n",
    "# No problem to change the glaciers within the collection\n",
    "# \"outside\" of the collection.\n",
    "glacier2.creep = glacier2.creep * 10\n",
    "glacier3.creep = glacier3.creep / 10"
   ]
  },
  {
   "cell_type": "code",
   "execution_count": null,
   "id": "93fa465b-4cbe-4743-b953-f4320528016a",
   "metadata": {},
   "outputs": [],
   "source": [
    "# Now this has some content, with a pretty representation, this is however not a full dataframe.\n",
    "collection"
   ]
  },
  {
   "cell_type": "code",
   "execution_count": null,
   "id": "8bb62de4-291d-467b-97e1-9d79e46fd078",
   "metadata": {},
   "outputs": [],
   "source": [
    "# This is one of the glaciers in the collection.\n",
    "# We can modify it with methods of the Glacier object.\n",
    "collection.glaciers[1]"
   ]
  },
  {
   "cell_type": "code",
   "execution_count": null,
   "id": "d8b0e34c-9097-4e83-87e0-6605537f4344",
   "metadata": {},
   "outputs": [],
   "source": [
    "# One can also add the glaciers to the collection separately.\n",
    "# collection.add(glacier1)\n",
    "# Note that this will fail since glacier2 is already in the\n",
    "# collection.\n",
    "collection.add(glacier2)"
   ]
  },
  {
   "cell_type": "markdown",
   "id": "e8f70f39-4a14-4e1d-8d72-9440b35db5e5",
   "metadata": {},
   "source": [
    "As a glacier, the glacierCollection also has a `.plot()` method."
   ]
  },
  {
   "cell_type": "code",
   "execution_count": null,
   "id": "143a7e37-d7d5-4162-b26d-f79e460cf504",
   "metadata": {},
   "outputs": [],
   "source": [
    "collection.plot()"
   ]
  },
  {
   "cell_type": "markdown",
   "id": "aa939fec-ee5b-4082-b0b9-1a6b5c3f3f96",
   "metadata": {},
   "source": [
    "But our glaciers haven't grown anything yet so this will be empty. The collection has the same methods for growing as the individual glaciers"
   ]
  },
  {
   "cell_type": "code",
   "execution_count": null,
   "id": "3b912081-953e-44d5-a697-554261de1d71",
   "metadata": {},
   "outputs": [],
   "source": [
    "# Grow the glacier in the collection to year ...\n",
    "collection.progress_to_year(100)"
   ]
  },
  {
   "cell_type": "code",
   "execution_count": null,
   "id": "7c1e6b7a-3888-4731-843b-acb1afc2544d",
   "metadata": {},
   "outputs": [],
   "source": [
    "# If we plot it again\n",
    "collection.plot()"
   ]
  },
  {
   "cell_type": "markdown",
   "id": "f006086f-60c3-46a9-9d2e-74671d849baf",
   "metadata": {},
   "source": [
    "And we can grow the glaciers until equilibrium"
   ]
  },
  {
   "cell_type": "code",
   "execution_count": null,
   "id": "fde328fd-66fe-4898-8b4d-25a2b57f3661",
   "metadata": {},
   "outputs": [],
   "source": [
    "collection.progress_to_equilibrium()"
   ]
  },
  {
   "cell_type": "code",
   "execution_count": null,
   "id": "f5bfee5a-f0dd-4f2e-ad12-effb7666afb2",
   "metadata": {},
   "outputs": [],
   "source": [
    "collection.plot()"
   ]
  },
  {
   "cell_type": "code",
   "execution_count": null,
   "id": "8ddc890d-eaff-45b7-a2de-cfe138f90cdb",
   "metadata": {},
   "outputs": [],
   "source": [
    "collection.plot_history()"
   ]
  },
  {
   "cell_type": "code",
   "execution_count": null,
   "id": "096bf2c2-5c37-458a-b60b-1a6cc6dfb41d",
   "metadata": {},
   "outputs": [],
   "source": [
    "# Add a temperature bias to one of the glaciers in the collection.\n",
    "glacier2.add_temperature_bias(1., 50)"
   ]
  },
  {
   "cell_type": "code",
   "execution_count": null,
   "id": "0901851f-f006-4d05-949b-73abd71cdfcd",
   "metadata": {},
   "outputs": [],
   "source": [
    "#  Glaciers in collection will now have different ages.\n",
    "collection.progress_to_equilibrium()"
   ]
  },
  {
   "cell_type": "code",
   "execution_count": null,
   "id": "ef9cb6e6-54f9-4c96-8fad-d14723b99209",
   "metadata": {},
   "outputs": [],
   "source": [
    "collection.plot_history()"
   ]
  },
  {
   "cell_type": "markdown",
   "id": "f3cfcefa-1f8c-4197-8809-e59808622b8d",
   "metadata": {},
   "source": [
    "## Another way of populating the collection\n",
    "It is also possible to populate the collection with the `.fill()` method"
   ]
  },
  {
   "cell_type": "code",
   "execution_count": null,
   "id": "0f92eae8-031a-436e-8739-56e402974486",
   "metadata": {},
   "outputs": [],
   "source": [
    "new_collection = GlacierCollection()\n",
    "# lets create a glacier.\n",
    "# bed = GlacierBed(top=3400, bottom=1400, width=300)\n",
    "bed = GlacierBed(altitudes=[3400, 2800, 2000, 1500],\n",
    "                 widths=[400, 600, 600, 500])\n",
    "# They have the same bed.\n",
    "glacier = Glacier(bed)\n",
    "glacier.ELA = 3000\n",
    "# But different mb gradients\n",
    "glacier.mb_gradient = 7"
   ]
  },
  {
   "cell_type": "code",
   "execution_count": null,
   "id": "3dc64eeb-cf8b-45b9-80fe-6de467057663",
   "metadata": {},
   "outputs": [],
   "source": [
    "new_collection"
   ]
  },
  {
   "cell_type": "code",
   "execution_count": null,
   "id": "bfe85aa5-c38f-419b-abcc-7bdad15844ab",
   "metadata": {},
   "outputs": [],
   "source": [
    "# Fill it\n",
    "# We provide an initial glacier, the number of glaciers we want in the\n",
    "# collection, and optionally a dictionary with key-value pairs for attributes\n",
    "# to change. More on this later.\n",
    "new_collection.fill(glacier=glacier, n=5,\n",
    "                    attributes_to_change={'ELA': [3000, 2800, 3000, 2600, 2500]}\n",
    "                   )"
   ]
  },
  {
   "cell_type": "code",
   "execution_count": null,
   "id": "d6c03d99-8e73-46f0-9301-7edc54c86728",
   "metadata": {},
   "outputs": [],
   "source": [
    "new_collection"
   ]
  },
  {
   "cell_type": "markdown",
   "id": "e99a8920-c563-4a22-95c7-dac23659ac5e",
   "metadata": {},
   "source": [
    "There is also a method for batch changing attributes of glaciers in the collection."
   ]
  },
  {
   "cell_type": "code",
   "execution_count": null,
   "id": "96b67ad4-a7b6-422f-9bf9-6a9819dc6105",
   "metadata": {},
   "outputs": [],
   "source": [
    "# This will change the ELA and mb_gradient of the glaciers in the collection.\n",
    "new_collection.change_attributes(attributes_to_change=\n",
    "                             {'mb_gradient': [5, 4, 7, 8, 15]}\n",
    "                            )\n",
    "new_collection"
   ]
  },
  {
   "cell_type": "code",
   "execution_count": null,
   "id": "3282faa2-bbb0-40db-8a94-ecf5fdd2d5d4",
   "metadata": {},
   "outputs": [],
   "source": [
    "new_collection.progress_to_year(55)"
   ]
  },
  {
   "cell_type": "code",
   "execution_count": null,
   "id": "0457fe6a-39f3-44c1-8c17-afb26bd15cd5",
   "metadata": {},
   "outputs": [],
   "source": [
    "new_collection.plot()"
   ]
  },
  {
   "cell_type": "code",
   "execution_count": null,
   "id": "e90ab9c5-5d6a-4a19-95a3-9c89e6a8bdd3",
   "metadata": {},
   "outputs": [],
   "source": [
    "new_collection.plot_history()"
   ]
  },
  {
   "cell_type": "markdown",
   "id": "4c6dcaf0-f2f1-4834-8c62-dc6fcb360691",
   "metadata": {},
   "source": [
    "Other attributes one can change are listed in the description of the method:"
   ]
  },
  {
   "cell_type": "code",
   "execution_count": null,
   "id": "5ddf48fa-626e-4f0e-b1b3-c73694a9fa08",
   "metadata": {},
   "outputs": [],
   "source": [
    "?collection.change_attributes"
   ]
  },
  {
   "cell_type": "markdown",
   "id": "c22d3f80-b105-40e5-8dff-8ee50a9eb2cf",
   "metadata": {},
   "source": [
    "More things we can add to the `GlacierCollection`, e.g.\n",
    "- ~~Populate the collection with n copies of one initial glacier. Then change the attributes.~~\n",
    "- Plot mass balances?\n",
    "- ???"
   ]
  },
  {
   "cell_type": "markdown",
   "id": "30540345-d01f-4b6f-a8c6-09a520f28474",
   "metadata": {},
   "source": [
    "## Surging Glacier\n",
    " The surging glacier is provided by another class. It behaves mostly like the glacier, but with some tweaks"
   ]
  },
  {
   "cell_type": "code",
   "execution_count": null,
   "id": "a6b66e4b-233e-4563-8bf1-dbb4167c344b",
   "metadata": {},
   "outputs": [],
   "source": [
    "# Create a complex bed.\n",
    "bed = GlacierBed(altitudes=(3800, 3300, 3000, 2100),\n",
    "                 widths=(1200, 800, 800, 600), slope=0.2)\n",
    "# We're using the bed from earlier.\n",
    "surging_glacier = SurgingGlacier(bed)"
   ]
  },
  {
   "cell_type": "code",
   "execution_count": null,
   "id": "7c980da5-66cf-4f3f-863b-8e59296b9b3b",
   "metadata": {},
   "outputs": [],
   "source": [
    "surging_glacier"
   ]
  },
  {
   "cell_type": "code",
   "execution_count": null,
   "id": "63dba94e-5453-4bf6-af98-b79f2fed62fc",
   "metadata": {},
   "outputs": [],
   "source": [
    "# Same as the Glacier \n",
    "surging_glacier.ELA = 3600\n",
    "surging_glacier.mb_gradient = 7\n",
    "surging_glacier.basal_sliding = 5.7e-20\n",
    "# Some of the new attributes of the surging glacier\n",
    "surging_glacier.normal_years = 100\n",
    "surging_glacier.surging_years = 10\n",
    "surging_glacier.basal_sliding_surge = 5.7e-20 * 10"
   ]
  },
  {
   "cell_type": "code",
   "execution_count": null,
   "id": "40010b0d-9795-4f6e-9232-602105d59fe4",
   "metadata": {},
   "outputs": [],
   "source": [
    "surging_glacier.progress_to_year(200)\n",
    "surging_glacier.plot()"
   ]
  },
  {
   "cell_type": "code",
   "execution_count": null,
   "id": "26ebd55d-7622-4d8f-aae7-c9853b0c7258",
   "metadata": {},
   "outputs": [],
   "source": [
    "# Plot the history\n",
    "surging_glacier.plot_history()"
   ]
  },
  {
   "cell_type": "code",
   "execution_count": null,
   "id": "0202d48a-b1d6-454f-b1bd-429c652a85b5",
   "metadata": {},
   "outputs": [],
   "source": [
    "# We can easlity to continue the progress of the glacier, this does not\n",
    "# re-run the glacier, but continues from the current state.\n",
    "surging_glacier.progress_to_year(500)\n",
    "surging_glacier.plot_history()"
   ]
  },
  {
   "cell_type": "code",
   "execution_count": null,
   "id": "8ff8793f-820a-4517-af32-ef8360feffdf",
   "metadata": {},
   "outputs": [],
   "source": [
    "# Surging glaciers do not have the progress_to_equilibrium method.\n",
    "surging_glacier.progress_to_equilibrium()"
   ]
  }
 ],
 "metadata": {
  "kernelspec": {
   "display_name": "Python 3 (ipykernel)",
   "language": "python",
   "name": "python3"
  },
  "language_info": {
   "codemirror_mode": {
    "name": "ipython",
    "version": 3
   },
   "file_extension": ".py",
   "mimetype": "text/x-python",
   "name": "python",
   "nbconvert_exporter": "python",
   "pygments_lexer": "ipython3",
   "version": "3.8.12"
  }
 },
 "nbformat": 4,
 "nbformat_minor": 5
}
