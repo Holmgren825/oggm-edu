{
 "cells": [
  {
   "cell_type": "markdown",
   "id": "ee2511df-1bee-4e77-ac89-54abbaf9392b",
   "metadata": {},
   "source": [
    "# Glacier edu module WIP\n",
    "This is an introduction/walk through of the glacier module in the OGGM-Edu library.\n",
    "At the moment it contains three classes: `GlacierBed`, `Glacier` and `GlacierCollection`. "
   ]
  },
  {
   "cell_type": "markdown",
   "id": "02d89e1c-3971-47f3-9db8-0cd440bc8faf",
   "metadata": {},
   "source": [
    "#### Interactive boxes PSA"
   ]
  },
  {
   "cell_type": "markdown",
   "id": "93fceaf9-cc4b-4ed5-96d7-49b9efcdc306",
   "metadata": {},
   "source": [
    "- Green\n",
    "<div class=\"alert alert-success\">\n",
    "    <details>\n",
    "        <summary>Just an example (Click me)</summary>\n",
    "        This is where the bread of the box go.\n",
    "    </details>\n",
    "</div>\n",
    "- Orange\n",
    "<div class=\"alert alert-warning\">\n",
    "    <details>\n",
    "        <summary>Just an example (Click me)</summary>\n",
    "        This is where the bread of the box go.\n",
    "    </details>\n",
    "</div>\n",
    "- Red\n",
    "<div class=\"alert alert-danger\">\n",
    "    <details>\n",
    "        <summary>Just an example (Click me)</summary>\n",
    "        This is where the bread of the box go.\n",
    "    </details>\n",
    "</div>\n",
    "- Blue\n",
    "<div class=\"alert alert-info\">\n",
    "    <details>\n",
    "        <summary>Just an example (Click me)</summary>\n",
    "        This is where the bread of the box go.\n",
    "    </details>\n",
    "</div>"
   ]
  },
  {
   "cell_type": "code",
   "execution_count": null,
   "id": "90b7962d-cc03-4798-a491-dc29568160f1",
   "metadata": {},
   "outputs": [],
   "source": [
    "%load_ext autoreload\n",
    "%autoreload 2"
   ]
  },
  {
   "cell_type": "code",
   "execution_count": null,
   "id": "opponent-bracket",
   "metadata": {},
   "outputs": [],
   "source": [
    "from oggm_edu import Glacier, GlacierCollection, GlacierBed, SurgingGlacier"
   ]
  },
  {
   "cell_type": "markdown",
   "id": "2de6da0b-48ff-47f8-9265-4eb028d03976",
   "metadata": {},
   "source": [
    "## Glacier bed\n",
    "The `GlacierBed` provides with a separate object for the bed of the glacier.\n",
    "This is then passed to the initialisation of the glacier.\n",
    "There are two ways to initialise a glacier bed:\n",
    "- Pass single scalars to the arguments top, bottom and width.\n",
    "    This creates a square bed.\n",
    "- Pass multiple values (list/tuple) to altitudes and widths.\n",
    "    These have to be the same length.\n",
    "    Each pair corresponds to the width at that altitude.\n",
    "    Gives more control over the geometry."
   ]
  },
  {
   "cell_type": "code",
   "execution_count": null,
   "id": "8c9ae90f-c7d2-4640-87bb-b8cb0bed1c4b",
   "metadata": {
    "tags": []
   },
   "outputs": [],
   "source": [
    "# Create a complex bed.\n",
    "bed = GlacierBed(altitudes=(3800, 3300, 3000, 2100),\n",
    "                 widths=(1200, 800, 800, 600), slope=0.2)\n",
    "# Create a simple bed\n",
    "# bed = GlaGlacierBed(top=3800, bottom=2100, width=300)"
   ]
  },
  {
   "cell_type": "code",
   "execution_count": null,
   "id": "db322060-a930-4b4c-a23e-955145caed5c",
   "metadata": {},
   "outputs": [],
   "source": [
    "# Representation\n",
    "bed"
   ]
  },
  {
   "cell_type": "code",
   "execution_count": null,
   "id": "c4dcfb07-894e-4883-b2eb-ab58b8030766",
   "metadata": {
    "tags": []
   },
   "outputs": [],
   "source": [
    "# Plotting method.\n",
    "bed.plot()"
   ]
  },
  {
   "cell_type": "markdown",
   "id": "03c68171-c183-4123-8593-dd49d7521585",
   "metadata": {},
   "source": [
    "## Glacier\n",
    "The `Glacier` class gives us an object with methods and attributes fitting for a  glacier.\n",
    "For now it is pretty simple, but will be extended.\n",
    "We begin with the definition of our glacier.\n",
    "It expects a bed - of the type `GlacierBed`."
   ]
  },
  {
   "cell_type": "code",
   "execution_count": null,
   "id": "continent-finnish",
   "metadata": {},
   "outputs": [],
   "source": [
    "# Initialise the glacier\n",
    "my_glacier = Glacier(bed)"
   ]
  },
  {
   "cell_type": "markdown",
   "id": "abf42447-ddd4-416f-bac0-684ca9fba885",
   "metadata": {},
   "source": [
    "If we simply print the glacier we get some basic statistics about it"
   ]
  },
  {
   "cell_type": "code",
   "execution_count": null,
   "id": "above-detective",
   "metadata": {},
   "outputs": [],
   "source": [
    "# Prints what is currently known about the glacier.\n",
    "my_glacier"
   ]
  },
  {
   "cell_type": "markdown",
   "id": "19a0711e-c8d2-47c2-99f1-755fd0814659",
   "metadata": {},
   "source": [
    "Since we haven't actually grown the glacier yet, the glacier has no volume etc. Note also that we don't have an ELA yet. We'll add this later.\n",
    "\n",
    "The glacier also has a plotting method"
   ]
  },
  {
   "cell_type": "code",
   "execution_count": null,
   "id": "constitutional-individual",
   "metadata": {},
   "outputs": [],
   "source": [
    "# A simple plotting method of the current glacier state.\n",
    "my_glacier.plot()"
   ]
  },
  {
   "cell_type": "code",
   "execution_count": null,
   "id": "f00e4f4b-a7a3-4e29-9b32-472da3d780c8",
   "metadata": {},
   "outputs": [],
   "source": [
    "# This will raise an error\n",
    "my_glacier.plot_history()"
   ]
  },
  {
   "cell_type": "markdown",
   "id": "e31282bf-6e00-401e-9be5-973b5c2c8113",
   "metadata": {},
   "source": [
    "Before we can grow the glacier we have to define the mass balance of the glacier. This is accomplished by setting the ELA and  mb_gradient attributes. When both are set, internally the mass balance model will be initiated. These can be set in any order."
   ]
  },
  {
   "cell_type": "code",
   "execution_count": null,
   "id": "criminal-foster",
   "metadata": {},
   "outputs": [],
   "source": [
    "# Set the ela to 3000 m.\n",
    "my_glacier.ELA = 3500"
   ]
  },
  {
   "cell_type": "code",
   "execution_count": null,
   "id": "3f0d285f-b68a-49b2-839d-adb36b4fcee8",
   "metadata": {},
   "outputs": [],
   "source": [
    "# This will not return anything\n",
    "my_glacier.mb_model"
   ]
  },
  {
   "cell_type": "code",
   "execution_count": null,
   "id": "noted-sullivan",
   "metadata": {},
   "outputs": [],
   "source": [
    "# Set the mass balance gradient to 7 mm/m\n",
    "my_glacier.mb_gradient = 7"
   ]
  },
  {
   "cell_type": "code",
   "execution_count": null,
   "id": "identical-spyware",
   "metadata": {},
   "outputs": [],
   "source": [
    "# Now this will return the oggm mass balance description.\n",
    "my_glacier.mb_model"
   ]
  },
  {
   "cell_type": "markdown",
   "id": "f3a678ad-b89c-4499-a856-c40b794b6f59",
   "metadata": {},
   "source": [
    "With the mass balance, we can let the glacier grow. There are two methods for this. `Glacier.grow_to_year(year=)`  grows the glacier until the specified year."
   ]
  },
  {
   "cell_type": "code",
   "execution_count": null,
   "id": "healthy-slovak",
   "metadata": {},
   "outputs": [],
   "source": [
    "# Grow the glacier until year 60\n",
    "my_glacier.progress_to_year(60)"
   ]
  },
  {
   "cell_type": "code",
   "execution_count": null,
   "id": "03208de6-adcc-4295-a651-37e103d57d58",
   "metadata": {},
   "outputs": [],
   "source": [
    "my_glacier.age"
   ]
  },
  {
   "cell_type": "code",
   "execution_count": null,
   "id": "scenic-cameroon",
   "metadata": {},
   "outputs": [],
   "source": [
    "# Outputs have now been updated.\n",
    "my_glacier"
   ]
  },
  {
   "cell_type": "code",
   "execution_count": null,
   "id": "proprietary-gathering",
   "metadata": {},
   "outputs": [],
   "source": [
    "# Plotting the glacier now has more information. Glacier surface and ELA.\n",
    "my_glacier.plot()"
   ]
  },
  {
   "cell_type": "markdown",
   "id": "92b5f2a8-d8ce-4e1e-a3f1-55e647379b5a",
   "metadata": {},
   "source": [
    "#### Copy a glacier\n",
    "We can also initialise a new glacier based on an already existing glacier. Simply provide a glacier under the `copy` keyword to the glacier class:"
   ]
  },
  {
   "cell_type": "code",
   "execution_count": null,
   "id": "ef4a4726-8d6d-4d8e-bbe2-13b49bdfd5aa",
   "metadata": {},
   "outputs": [],
   "source": [
    "glacier2 = Glacier(copy=my_glacier)"
   ]
  },
  {
   "cell_type": "markdown",
   "id": "4b9c19fe-f8b0-46f4-aa9e-a9925dc80c85",
   "metadata": {},
   "source": [
    "This glacier can now be progressed/changed independently from the original glacier."
   ]
  },
  {
   "cell_type": "code",
   "execution_count": null,
   "id": "65d1fad9-8410-49b5-828f-246fc49e3928",
   "metadata": {},
   "outputs": [],
   "source": [
    "# Change the sliding parameter\n",
    "glacier2.basal_sliding = 5.7e-20\n",
    "glacier2.progress_to_year(150)\n",
    "glacier2.plot()"
   ]
  },
  {
   "cell_type": "code",
   "execution_count": null,
   "id": "329a0ed0-caf0-4de8-b46f-561e87ea0412",
   "metadata": {},
   "outputs": [],
   "source": [
    "# Progress the original glacier to year 150\n",
    "my_glacier.progress_to_year(150)\n",
    "my_glacier.plot()"
   ]
  },
  {
   "cell_type": "markdown",
   "id": "cb100728-dd88-480d-b622-6ff3d5fb7c47",
   "metadata": {},
   "source": [
    "## Take a look at the history of the glacier\n",
    "For this the glacier has the history attribute.\n",
    "This is a dataset that contains some useful diagnostics about the glacier."
   ]
  },
  {
   "cell_type": "code",
   "execution_count": null,
   "id": "36058708-db7d-4d5b-9dde-f91954d232d5",
   "metadata": {
    "tags": []
   },
   "outputs": [],
   "source": [
    "my_glacier.history"
   ]
  },
  {
   "cell_type": "markdown",
   "id": "018c03e7-1d84-4c5d-a2cf-f248d1eb0449",
   "metadata": {},
   "source": [
    "We can plot the history of some attributes of the glacier quickly"
   ]
  },
  {
   "cell_type": "code",
   "execution_count": null,
   "id": "0226c6f9-61f6-46ba-94ed-18a28502fe71",
   "metadata": {},
   "outputs": [],
   "source": [
    "my_glacier.plot_history()"
   ]
  },
  {
   "cell_type": "markdown",
   "id": "eee2f959-2802-4a20-81dd-b62f5b57bdbf",
   "metadata": {},
   "source": [
    "Grow it for a little longer"
   ]
  },
  {
   "cell_type": "code",
   "execution_count": null,
   "id": "stunning-colleague",
   "metadata": {},
   "outputs": [],
   "source": [
    "my_glacier.progress_to_year(210)\n",
    "my_glacier.plot()"
   ]
  },
  {
   "cell_type": "code",
   "execution_count": null,
   "id": "911b0752-4722-48fd-a0df-271c3d5e9854",
   "metadata": {},
   "outputs": [],
   "source": [
    "my_glacier.plot_history()"
   ]
  },
  {
   "cell_type": "markdown",
   "id": "bedbe90d-0961-4c8c-a435-d026552ac222",
   "metadata": {},
   "source": [
    "The glacier also has a method that progress it to equilibrium `Glacer.progress_to_equilibrium()`"
   ]
  },
  {
   "cell_type": "code",
   "execution_count": null,
   "id": "cubic-equation",
   "metadata": {},
   "outputs": [],
   "source": [
    "# Grow the glacier to equilbrium\n",
    "my_glacier.progress_to_equilibrium()"
   ]
  },
  {
   "cell_type": "code",
   "execution_count": null,
   "id": "based-format",
   "metadata": {},
   "outputs": [],
   "source": [
    "# Plot the glacier again.\n",
    "my_glacier.plot()"
   ]
  },
  {
   "cell_type": "markdown",
   "id": "a39b54a9-59bc-4413-b929-1346c746ab29",
   "metadata": {},
   "source": [
    "There is a method for plotting the mass balance."
   ]
  },
  {
   "cell_type": "code",
   "execution_count": null,
   "id": "fd59c9fe-e7ab-4126-bbf5-27194a6985d8",
   "metadata": {},
   "outputs": [],
   "source": [
    "my_glacier.plot_mass_balance()"
   ]
  },
  {
   "cell_type": "markdown",
   "id": "9b8b20ba-d339-41cd-beab-bad972542787",
   "metadata": {},
   "source": [
    "If we change any of the mass balance parameters, it will internally update the mass balance of the glacier. Growing the glacier will start in the previous state but with the new mass balance. Hence, the glacier will either shrink or grow depending on what is changed. As of now, the glacier is not saving the previous states so one can not compare the glacier before and after the change. One could imagine that glacier to have a mechanism that saves states if the mass balance is changed or something similar. But it also nice to keep the glacier class as light as possible, which is why we have the glacier collection. \n",
    "\n",
    "Other methods/tweaks that could be interesting for the glacier class:\n",
    "- ~~Grow and save in order to plot the evolution~~\n",
    "- ~~Surging, however this might be it's own subclass.~~ See further down.\n",
    "- Response time"
   ]
  },
  {
   "cell_type": "markdown",
   "id": "e3561a82-d7db-4aa3-9a7f-89d28b7f0224",
   "metadata": {},
   "source": [
    "Let's raise the ELA as a test"
   ]
  },
  {
   "cell_type": "code",
   "execution_count": null,
   "id": "d493d36d-409b-4643-942f-af88346258c0",
   "metadata": {},
   "outputs": [],
   "source": [
    "# Raise the ELA\n",
    "my_glacier.ELA = 3700"
   ]
  },
  {
   "cell_type": "code",
   "execution_count": null,
   "id": "bed7da9c-c2b5-4086-9be7-7097108dfc0d",
   "metadata": {},
   "outputs": [],
   "source": [
    "# Grow to the new equilbrium\n",
    "my_glacier.progress_to_equilibrium()"
   ]
  },
  {
   "cell_type": "code",
   "execution_count": null,
   "id": "9f95cdc4-f137-4896-828b-2d3dfffcfa8c",
   "metadata": {},
   "outputs": [],
   "source": [
    "# Plot it\n",
    "my_glacier.plot()"
   ]
  },
  {
   "cell_type": "code",
   "execution_count": null,
   "id": "b2c9e308-eb64-4e94-9787-4408a9de37c2",
   "metadata": {},
   "outputs": [],
   "source": [
    "my_glacier.plot_history()"
   ]
  },
  {
   "cell_type": "markdown",
   "id": "a03d706b-8b55-4146-86d2-ebd2c4d93563",
   "metadata": {},
   "source": [
    "The glacier is now quite small..."
   ]
  },
  {
   "cell_type": "markdown",
   "id": "068b4332-d953-4159-adbe-612d4cd65b21",
   "metadata": {},
   "source": [
    "# The the glacier collection\n",
    "The `GlacierCollection()` class is made to make it simple to work with multiple glaciers. As of now, we have to define the glaciers separately and put them in the collection. But it is not hard to imagine that it could also have a method to populate it with a number of glaciers."
   ]
  },
  {
   "cell_type": "code",
   "execution_count": null,
   "id": "c4c27a55-753f-40aa-a596-b74dd44614ec",
   "metadata": {},
   "outputs": [],
   "source": [
    "# This initiates an empty collection.\n",
    "collection = GlacierCollection()"
   ]
  },
  {
   "cell_type": "code",
   "execution_count": null,
   "id": "6813f392-41f2-4d3e-a777-8d0af723fdcc",
   "metadata": {},
   "outputs": [],
   "source": [
    "collection"
   ]
  },
  {
   "cell_type": "code",
   "execution_count": null,
   "id": "bc655ba9-701d-4eb1-865b-c0657c9f6cff",
   "metadata": {},
   "outputs": [],
   "source": [
    "# This conveniently inherits the print of the glacier object. Maybe this\n",
    "# will get annoying with many glaciers.\n",
    "# As of now, it is empty.\n",
    "collection.glaciers"
   ]
  },
  {
   "cell_type": "markdown",
   "id": "fc5c87c4-1668-4e33-ab98-da33e82b790f",
   "metadata": {},
   "source": [
    "Let's create another two glaciers to add to the collection"
   ]
  },
  {
   "cell_type": "code",
   "execution_count": null,
   "id": "e2efd41b-59af-406b-9520-e34acfcda376",
   "metadata": {},
   "outputs": [],
   "source": [
    "# lets create two other glaciers.\n",
    "bed = GlacierBed(top=3400, bottom=1400, width=300)\n",
    "# They have the same bed.\n",
    "glacier1 = Glacier(bed)\n",
    "glacier1.ELA = 3000\n",
    "# But different mb gradients\n",
    "glacier1.mb_gradient = 7\n",
    "# lets create two other glaciers.\n",
    "# Here we copy the first one, but one could just define new ones a done\n",
    "# above.\n",
    "glacier2 = Glacier(copy=glacier1)\n",
    "glacier3 = Glacier(copy=glacier1)"
   ]
  },
  {
   "cell_type": "markdown",
   "id": "be6481ba-15fa-4e79-bbc1-b293e3b02410",
   "metadata": {},
   "source": [
    "We add glaciers to the collection with the `.add()` method:"
   ]
  },
  {
   "cell_type": "code",
   "execution_count": null,
   "id": "92ff94c4-a5c4-4af7-8514-8b6a68838dc1",
   "metadata": {},
   "outputs": [],
   "source": [
    "# Add the first glacier\n",
    "collection.add([glacier1, glacier2, glacier3])\n",
    "# Change some ice flow stuff\n",
    "# No problem to change the glaciers within the collection\n",
    "# \"outside\" of the collection.\n",
    "glacier2.creep = glacier2.creep * 10\n",
    "glacier3.creep = glacier3.creep / 10"
   ]
  },
  {
   "cell_type": "code",
   "execution_count": null,
   "id": "93fa465b-4cbe-4743-b953-f4320528016a",
   "metadata": {},
   "outputs": [],
   "source": [
    "# Now this has some content\n",
    "collection.glaciers"
   ]
  },
  {
   "cell_type": "code",
   "execution_count": null,
   "id": "d8b0e34c-9097-4e83-87e0-6605537f4344",
   "metadata": {},
   "outputs": [],
   "source": [
    "# One can also add the glaciers to the collection separately.\n",
    "# collection.add(glacier1)\n",
    "# collection.add(glacier2)"
   ]
  },
  {
   "cell_type": "code",
   "execution_count": null,
   "id": "1b6105a3-c0e0-4bb1-91f7-4cf022892b91",
   "metadata": {},
   "outputs": [],
   "source": [
    "# The collection now has some glaciers in it.\n",
    "collection"
   ]
  },
  {
   "cell_type": "markdown",
   "id": "e8f70f39-4a14-4e1d-8d72-9440b35db5e5",
   "metadata": {},
   "source": [
    "As a glacier, the glacierCollection also has a `.plot()` method."
   ]
  },
  {
   "cell_type": "code",
   "execution_count": null,
   "id": "143a7e37-d7d5-4162-b26d-f79e460cf504",
   "metadata": {},
   "outputs": [],
   "source": [
    "collection.plot()"
   ]
  },
  {
   "cell_type": "markdown",
   "id": "aa939fec-ee5b-4082-b0b9-1a6b5c3f3f96",
   "metadata": {},
   "source": [
    "But our glaciers haven't grown anything yet so this will be empty. The collection has the same methods for growing as the individual glaciers"
   ]
  },
  {
   "cell_type": "code",
   "execution_count": null,
   "id": "3b912081-953e-44d5-a697-554261de1d71",
   "metadata": {},
   "outputs": [],
   "source": [
    "# Grow the glacier in the collection to year ...\n",
    "collection.progress_to_year(300)"
   ]
  },
  {
   "cell_type": "code",
   "execution_count": null,
   "id": "7c1e6b7a-3888-4731-843b-acb1afc2544d",
   "metadata": {},
   "outputs": [],
   "source": [
    "# If we plot it again\n",
    "collection.plot()"
   ]
  },
  {
   "cell_type": "markdown",
   "id": "f006086f-60c3-46a9-9d2e-74671d849baf",
   "metadata": {},
   "source": [
    "And we can grow the glaciers until equilibrium"
   ]
  },
  {
   "cell_type": "code",
   "execution_count": null,
   "id": "fde328fd-66fe-4898-8b4d-25a2b57f3661",
   "metadata": {},
   "outputs": [],
   "source": [
    "collection.progress_to_equilibrium()"
   ]
  },
  {
   "cell_type": "code",
   "execution_count": null,
   "id": "f5bfee5a-f0dd-4f2e-ad12-effb7666afb2",
   "metadata": {},
   "outputs": [],
   "source": [
    "collection.plot()"
   ]
  },
  {
   "cell_type": "code",
   "execution_count": null,
   "id": "8ddc890d-eaff-45b7-a2de-cfe138f90cdb",
   "metadata": {},
   "outputs": [],
   "source": [
    "collection.plot_history()"
   ]
  },
  {
   "cell_type": "code",
   "execution_count": null,
   "id": "096bf2c2-5c37-458a-b60b-1a6cc6dfb41d",
   "metadata": {},
   "outputs": [],
   "source": [
    "collection.glaciers[1].ELA = 3200"
   ]
  },
  {
   "cell_type": "code",
   "execution_count": null,
   "id": "0901851f-f006-4d05-949b-73abd71cdfcd",
   "metadata": {},
   "outputs": [],
   "source": [
    "#  Glaciers in collection will now have different ages.\n",
    "collection.progress_to_equilibrium()"
   ]
  },
  {
   "cell_type": "code",
   "execution_count": null,
   "id": "ef9cb6e6-54f9-4c96-8fad-d14723b99209",
   "metadata": {},
   "outputs": [],
   "source": [
    "collection.plot_history()"
   ]
  },
  {
   "cell_type": "markdown",
   "id": "c22d3f80-b105-40e5-8dff-8ee50a9eb2cf",
   "metadata": {},
   "source": [
    "As with the `Glacier` class there are probably more things we can add to the `GlacierCollection`, e.g.\n",
    "- Method to fill it with n glaciers.\n",
    "- Plot mass balances?\n",
    "- ???"
   ]
  },
  {
   "cell_type": "markdown",
   "id": "30540345-d01f-4b6f-a8c6-09a520f28474",
   "metadata": {},
   "source": [
    "## Surging Glacier\n",
    " The surging glacier is provided by another class. It behaves mostly like the glacier, but with some tweaks"
   ]
  },
  {
   "cell_type": "code",
   "execution_count": null,
   "id": "a6b66e4b-233e-4563-8bf1-dbb4167c344b",
   "metadata": {},
   "outputs": [],
   "source": [
    "# Create a complex bed.\n",
    "bed = GlacierBed(altitudes=(3800, 3300, 3000, 2100),\n",
    "                 widths=(1200, 800, 800, 600), slope=0.2)\n",
    "# We're using the bed from earlier.\n",
    "surging_glacier = SurgingGlacier(bed)"
   ]
  },
  {
   "cell_type": "code",
   "execution_count": null,
   "id": "63dba94e-5453-4bf6-af98-b79f2fed62fc",
   "metadata": {},
   "outputs": [],
   "source": [
    "# Same as the Glacier \n",
    "surging_glacier.ELA = 3600\n",
    "surging_glacier.mb_gradient = 7\n",
    "surging_glacier.basal_sliding = 5.7e-20\n",
    "# Some of the new attributes of the surging glacier\n",
    "surging_glacier.normal_years = 100\n",
    "surging_glacier.surging_years = 10\n",
    "surging_glacier.basal_sliding_surge = 5.7e-20 * 10"
   ]
  },
  {
   "cell_type": "code",
   "execution_count": null,
   "id": "40010b0d-9795-4f6e-9232-602105d59fe4",
   "metadata": {},
   "outputs": [],
   "source": [
    "surging_glacier.progress_to_year(200)\n",
    "surging_glacier.plot()"
   ]
  },
  {
   "cell_type": "code",
   "execution_count": null,
   "id": "26ebd55d-7622-4d8f-aae7-c9853b0c7258",
   "metadata": {},
   "outputs": [],
   "source": [
    "# Plot the history\n",
    "surging_glacier.plot_history()"
   ]
  },
  {
   "cell_type": "code",
   "execution_count": null,
   "id": "0202d48a-b1d6-454f-b1bd-429c652a85b5",
   "metadata": {},
   "outputs": [],
   "source": [
    "# We can easlity to continue the progress of the glacier, this does not\n",
    "# re-run the glacier, but continues from the current state.\n",
    "surging_glacier.progress_to_year(500)\n",
    "surging_glacier.plot_history()"
   ]
  },
  {
   "cell_type": "code",
   "execution_count": null,
   "id": "8ff8793f-820a-4517-af32-ef8360feffdf",
   "metadata": {},
   "outputs": [],
   "source": [
    "# Surging glaciers do not have the progress_to_equilibrium method.\n",
    "surging_glacier.progress_to_equilibrium()"
   ]
  },
  {
   "cell_type": "code",
   "execution_count": null,
   "id": "77380557-587e-44df-a44f-dd6038645a66",
   "metadata": {},
   "outputs": [],
   "source": []
  }
 ],
 "metadata": {
  "kernelspec": {
   "display_name": "Python 3 (ipykernel)",
   "language": "python",
   "name": "python3"
  },
  "language_info": {
   "codemirror_mode": {
    "name": "ipython",
    "version": 3
   },
   "file_extension": ".py",
   "mimetype": "text/x-python",
   "name": "python",
   "nbconvert_exporter": "python",
   "pygments_lexer": "ipython3",
   "version": "3.8.3"
  }
 },
 "nbformat": 4,
 "nbformat_minor": 5
}
